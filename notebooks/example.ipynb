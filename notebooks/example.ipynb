{
 "cells": [
  {
   "cell_type": "markdown",
   "metadata": {},
   "source": [
    "# Training symbolic regression models\n",
    "\n",
    "This notebook illustrates how to use scripts developed to train symbolic regression models. \n",
    "\n",
    "For more information refer to the main manuscript //// (paper link)\n",
    "\n",
    "The following examples were run with the following dependencies:\n",
    "\n",
    "numpy == 1.22.3 pandas == 1.4.3  scikit-learn == 1.0.2  scipy == 1.7.1 \n",
    "\n",
    "torch ==1.9.0 wandb == 0.12.21 pytorch == 1.12.0 sympy == 1.10.1 \n",
    "\n",
    "\n"
   ]
  },
  {
   "cell_type": "code",
   "execution_count": 1,
   "metadata": {},
   "outputs": [],
   "source": [
    "import sys\n",
    "sys.path.insert(0, '../src')\n",
    "\n",
    "import numpy as np\n",
    "import roboscientist.equation.equation as rs_equation\n",
    "from experiments import run_experiment\n",
    "\n",
    "\n",
    "import roboscientist.equation.operators as rs_operators\n",
    "\n",
    "import matplotlib.pyplot as plt"
   ]
  },
  {
   "cell_type": "markdown",
   "metadata": {},
   "source": [
    "# Training data\n",
    "\n",
    "For this example, we generate artificial training data from an arbitrarily chosen expression. In your application, however, you will replace this cell for a function opening an existing dataset from, e.g. a pickle file, or a csv.\n"
   ]
  },
  {
   "cell_type": "code",
   "execution_count": 2,
   "metadata": {},
   "outputs": [],
   "source": [
    "# Generate equaly destributed points from -5 to 5\n",
    "X = np.sort(np.sort(np.random.uniform(-5, 5, 25)))[..., None]\n",
    "\n",
    "# The turget function\n",
    "\n",
    "y = X ** 3 + X ** 2 + X \n",
    "\n",
    "# You can add nise to the turget, if you like\n",
    "\n",
    "#noise = 1e-3 * np.random.rand(*X.shape)\n",
    "#y = X ** 3 + X ** 2 + X + noise\n",
    "\n"
   ]
  },
  {
   "cell_type": "markdown",
   "metadata": {},
   "source": [
    "# Setting solver hyperparameters\n",
    "\n",
    "The next cell presented an example of a simple run where you only choose the epoch number.\n",
    "\n",
    "In run_experiment.py you can find a set of hyperparameters (with default values) that you can tune to fit your data.\n",
    "\n",
    "One more important 'parameter' is a set of functions with you want to use to fit your dataset.\n",
    "\n",
    "The default functions a listed in operators.py\n",
    "\n",
    "Login to your wandb account\n"
   ]
  },
  {
   "cell_type": "code",
   "execution_count": 3,
   "metadata": {},
   "outputs": [],
   "source": [
    "x_lows = [X.min(axis=0)]\n",
    "x_highs = [X.max(axis=0)]\n",
    "y_dom = (y.min() - 0.05 * y.min(), y.max() + 0.05 * y.max())\n",
    "domains_grid = (x_lows, x_highs, y_dom)"
   ]
  },
  {
   "cell_type": "code",
   "execution_count": 4,
   "metadata": {},
   "outputs": [
    {
     "name": "stderr",
     "output_type": "stream",
     "text": [
      "\u001b[34m\u001b[1mwandb\u001b[0m: Currently logged in as: \u001b[33mmikelazarev\u001b[0m. Use \u001b[1m`wandb login --relogin`\u001b[0m to force relogin\n"
     ]
    },
    {
     "data": {
      "text/html": [
       "wandb version 0.13.3 is available!  To upgrade, please run:\n",
       " $ pip install wandb --upgrade"
      ],
      "text/plain": [
       "<IPython.core.display.HTML object>"
      ]
     },
     "metadata": {},
     "output_type": "display_data"
    },
    {
     "data": {
      "text/html": [
       "Tracking run with wandb version 0.12.21"
      ],
      "text/plain": [
       "<IPython.core.display.HTML object>"
      ]
     },
     "metadata": {},
     "output_type": "display_data"
    },
    {
     "data": {
      "text/html": [
       "Run data is saved locally in <code>../logs/wandb/run-20220918_205408-u4cr7bxj</code>"
      ],
      "text/plain": [
       "<IPython.core.display.HTML object>"
      ]
     },
     "metadata": {},
     "output_type": "display_data"
    },
    {
     "data": {
      "text/html": [
       "Syncing run <strong><a href=\"https://wandb.ai/mikelazarev/some_experiments/runs/u4cr7bxj\" target=\"_blank\">COLAB</a></strong> to <a href=\"https://wandb.ai/mikelazarev/some_experiments\" target=\"_blank\">Weights & Biases</a> (<a href=\"https://wandb.me/run\" target=\"_blank\">docs</a>)<br/>"
      ],
      "text/plain": [
       "<IPython.core.display.HTML object>"
      ]
     },
     "metadata": {},
     "output_type": "display_data"
    },
    {
     "name": "stdout",
     "output_type": "stream",
     "text": [
      "===== START PRETRAIN =====\n",
      "\t [epoch -1]\n",
      "\t[training] batches count: 157\n",
      "\t[training] loss: 17.554, rec loss: 17.459, kl: 0.189\n",
      "\t[validation] loss: 14.651, rec loss: 14.463, kl: 0.377\n",
      "======================================================================\n",
      "\t [epoch -1]\n",
      "\t[training] batches count: 157\n",
      "\t[training] loss: 15.461, rec loss: 15.152, kl: 0.619\n",
      "\t[validation] loss: 14.265, rec loss: 13.836, kl: 0.859\n",
      "======================================================================\n",
      "\t [epoch -1]\n",
      "\t[training] batches count: 157\n",
      "\t[training] loss: 15.106, rec loss: 14.545, kl: 1.120\n",
      "\t[validation] loss: 14.016, rec loss: 13.346, kl: 1.341\n",
      "======================================================================\n",
      "\t [epoch -1]\n",
      "\t[training] batches count: 157\n",
      "\t[training] loss: 14.866, rec loss: 14.031, kl: 1.670\n",
      "\t[validation] loss: 13.789, rec loss: 12.828, kl: 1.924\n",
      "======================================================================\n",
      "\t [epoch -1]\n",
      "\t[training] batches count: 157\n",
      "\t[training] loss: 14.633, rec loss: 13.515, kl: 2.235\n",
      "\t[validation] loss: 13.529, rec loss: 12.281, kl: 2.496\n",
      "======================================================================\n",
      "\t [epoch -1]\n",
      "\t[training] batches count: 157\n",
      "\t[training] loss: 14.380, rec loss: 12.943, kl: 2.874\n",
      "\t[validation] loss: 13.358, rec loss: 11.797, kl: 3.122\n",
      "======================================================================\n",
      "\t [epoch -1]\n",
      "\t[training] batches count: 157\n",
      "\t[training] loss: 14.164, rec loss: 12.482, kl: 3.365\n",
      "\t[validation] loss: 13.088, rec loss: 11.275, kl: 3.627\n",
      "======================================================================\n",
      "\t [epoch -1]\n",
      "\t[training] batches count: 157\n",
      "\t[training] loss: 14.048, rec loss: 12.137, kl: 3.820\n",
      "\t[validation] loss: 13.008, rec loss: 11.159, kl: 3.697\n",
      "======================================================================\n",
      "\t [epoch -1]\n",
      "\t[training] batches count: 157\n",
      "\t[training] loss: 13.899, rec loss: 11.790, kl: 4.218\n",
      "\t[validation] loss: 12.973, rec loss: 10.779, kl: 4.388\n",
      "======================================================================\n",
      "\t [epoch -1]\n",
      "\t[training] batches count: 157\n",
      "\t[training] loss: 13.787, rec loss: 11.460, kl: 4.654\n",
      "\t[validation] loss: 13.204, rec loss: 10.887, kl: 4.634\n",
      "======================================================================\n",
      "\t [epoch -1]\n",
      "\t[training] batches count: 157\n",
      "\t[training] loss: 13.594, rec loss: 11.063, kl: 5.062\n",
      "\t[validation] loss: 12.518, rec loss: 9.950, kl: 5.136\n",
      "======================================================================\n",
      "\t [epoch -1]\n",
      "\t[training] batches count: 157\n",
      "\t[training] loss: 13.484, rec loss: 10.709, kl: 5.551\n",
      "\t[validation] loss: 12.575, rec loss: 9.897, kl: 5.356\n",
      "======================================================================\n",
      "\t [epoch -1]\n",
      "\t[training] batches count: 157\n",
      "\t[training] loss: 13.280, rec loss: 10.271, kl: 6.019\n",
      "\t[validation] loss: 12.318, rec loss: 9.270, kl: 6.097\n",
      "======================================================================\n",
      "\t [epoch -1]\n",
      "\t[training] batches count: 157\n",
      "\t[training] loss: 13.155, rec loss: 9.919, kl: 6.472\n",
      "\t[validation] loss: 12.446, rec loss: 9.264, kl: 6.363\n",
      "======================================================================\n",
      "\t [epoch -1]\n",
      "\t[training] batches count: 157\n",
      "\t[training] loss: 13.053, rec loss: 9.659, kl: 6.787\n",
      "\t[validation] loss: 11.983, rec loss: 8.636, kl: 6.693\n",
      "======================================================================\n",
      "\t [epoch -1]\n",
      "\t[training] batches count: 157\n",
      "\t[training] loss: 12.887, rec loss: 9.310, kl: 7.154\n",
      "\t[validation] loss: 11.765, rec loss: 8.252, kl: 7.026\n",
      "======================================================================\n",
      "\t [epoch -1]\n",
      "\t[training] batches count: 157\n",
      "\t[training] loss: 12.852, rec loss: 9.139, kl: 7.426\n",
      "\t[validation] loss: 12.144, rec loss: 8.487, kl: 7.313\n",
      "======================================================================\n",
      "\t [epoch -1]\n",
      "\t[training] batches count: 157\n",
      "\t[training] loss: 12.733, rec loss: 8.890, kl: 7.686\n",
      "\t[validation] loss: 11.687, rec loss: 7.818, kl: 7.739\n",
      "======================================================================\n",
      "\t [epoch -1]\n",
      "\t[training] batches count: 157\n",
      "\t[training] loss: 12.597, rec loss: 8.599, kl: 7.996\n",
      "\t[validation] loss: 11.482, rec loss: 7.546, kl: 7.872\n",
      "======================================================================\n",
      "\t [epoch -1]\n",
      "\t[training] batches count: 157\n",
      "\t[training] loss: 12.572, rec loss: 8.451, kl: 8.243\n",
      "\t[validation] loss: 11.378, rec loss: 7.332, kl: 8.091\n",
      "======================================================================\n",
      "\t [epoch -1]\n",
      "\t[training] batches count: 157\n",
      "\t[training] loss: 12.474, rec loss: 8.272, kl: 8.403\n",
      "\t[validation] loss: 11.559, rec loss: 7.321, kl: 8.475\n",
      "======================================================================\n",
      "\t [epoch -1]\n",
      "\t[training] batches count: 157\n",
      "\t[training] loss: 12.357, rec loss: 7.987, kl: 8.739\n",
      "\t[validation] loss: 12.170, rec loss: 7.905, kl: 8.530\n",
      "======================================================================\n",
      "\t [epoch -1]\n",
      "\t[training] batches count: 157\n",
      "\t[training] loss: 12.289, rec loss: 7.853, kl: 8.872\n",
      "\t[validation] loss: 11.264, rec loss: 6.761, kl: 9.006\n",
      "======================================================================\n",
      "\t [epoch -1]\n",
      "\t[training] batches count: 157\n",
      "\t[training] loss: 12.207, rec loss: 7.636, kl: 9.141\n",
      "\t[validation] loss: 11.307, rec loss: 6.752, kl: 9.111\n",
      "======================================================================\n",
      "\t [epoch -1]\n",
      "\t[training] batches count: 157\n",
      "\t[training] loss: 12.121, rec loss: 7.472, kl: 9.298\n",
      "\t[validation] loss: 11.272, rec loss: 6.683, kl: 9.178\n",
      "======================================================================\n",
      "\t [epoch -1]\n",
      "\t[training] batches count: 157\n",
      "\t[training] loss: 12.042, rec loss: 7.302, kl: 9.481\n",
      "\t[validation] loss: 10.853, rec loss: 6.181, kl: 9.344\n",
      "======================================================================\n",
      "\t [epoch -1]\n",
      "\t[training] batches count: 157\n",
      "\t[training] loss: 12.038, rec loss: 7.239, kl: 9.599\n",
      "\t[validation] loss: 10.946, rec loss: 6.188, kl: 9.515\n",
      "======================================================================\n",
      "\t [epoch -1]\n",
      "\t[training] batches count: 157\n",
      "\t[training] loss: 11.901, rec loss: 6.993, kl: 9.816\n",
      "\t[validation] loss: 10.920, rec loss: 6.035, kl: 9.769\n",
      "======================================================================\n",
      "\t [epoch -1]\n",
      "\t[training] batches count: 157\n",
      "\t[training] loss: 11.984, rec loss: 7.071, kl: 9.826\n",
      "\t[validation] loss: 10.769, rec loss: 5.892, kl: 9.754\n",
      "======================================================================\n",
      "\t [epoch -1]\n",
      "\t[training] batches count: 157\n",
      "\t[training] loss: 11.900, rec loss: 6.888, kl: 10.022\n",
      "\t[validation] loss: 10.740, rec loss: 5.803, kl: 9.873\n",
      "======================================================================\n",
      "\t [epoch -1]\n",
      "\t[training] batches count: 157\n",
      "\t[training] loss: 11.768, rec loss: 6.675, kl: 10.187\n",
      "\t[validation] loss: 10.905, rec loss: 5.803, kl: 10.205\n",
      "======================================================================\n",
      "\t [epoch -1]\n",
      "\t[training] batches count: 157\n",
      "\t[training] loss: 11.720, rec loss: 6.553, kl: 10.334\n",
      "\t[validation] loss: 10.678, rec loss: 5.583, kl: 10.189\n",
      "======================================================================\n",
      "\t [epoch -1]\n",
      "\t[training] batches count: 157\n",
      "\t[training] loss: 11.793, rec loss: 6.617, kl: 10.352\n",
      "\t[validation] loss: 10.532, rec loss: 5.403, kl: 10.260\n",
      "======================================================================\n",
      "\t [epoch -1]\n",
      "\t[training] batches count: 157\n",
      "\t[training] loss: 11.670, rec loss: 6.395, kl: 10.551\n",
      "\t[validation] loss: 10.705, rec loss: 5.506, kl: 10.399\n",
      "======================================================================\n",
      "\t [epoch -1]\n",
      "\t[training] batches count: 157\n",
      "\t[training] loss: 11.666, rec loss: 6.356, kl: 10.619\n",
      "\t[validation] loss: 10.530, rec loss: 5.301, kl: 10.458\n",
      "======================================================================\n",
      "\t [epoch -1]\n",
      "\t[training] batches count: 157\n",
      "\t[training] loss: 11.565, rec loss: 6.179, kl: 10.772\n",
      "\t[validation] loss: 10.538, rec loss: 5.242, kl: 10.592\n",
      "======================================================================\n",
      "\t [epoch -1]\n",
      "\t[training] batches count: 157\n",
      "\t[training] loss: 11.528, rec loss: 6.066, kl: 10.924\n",
      "\t[validation] loss: 10.408, rec loss: 5.055, kl: 10.706\n"
     ]
    },
    {
     "name": "stdout",
     "output_type": "stream",
     "text": [
      "======================================================================\n",
      "\t [epoch -1]\n",
      "\t[training] batches count: 157\n",
      "\t[training] loss: 11.483, rec loss: 5.977, kl: 11.011\n",
      "\t[validation] loss: 10.443, rec loss: 5.006, kl: 10.875\n",
      "======================================================================\n",
      "\t [epoch -1]\n",
      "\t[training] batches count: 157\n",
      "\t[training] loss: 11.527, rec loss: 6.012, kl: 11.030\n",
      "\t[validation] loss: 10.426, rec loss: 4.977, kl: 10.900\n",
      "======================================================================\n",
      "\t [epoch -1]\n",
      "\t[training] batches count: 157\n",
      "\t[training] loss: 11.360, rec loss: 5.763, kl: 11.194\n",
      "\t[validation] loss: 10.280, rec loss: 4.784, kl: 10.994\n",
      "======================================================================\n",
      "\t [epoch -1]\n",
      "\t[training] batches count: 157\n",
      "\t[training] loss: 11.412, rec loss: 5.759, kl: 11.306\n",
      "\t[validation] loss: 10.545, rec loss: 5.072, kl: 10.946\n",
      "======================================================================\n",
      "\t [epoch -1]\n",
      "\t[training] batches count: 157\n",
      "\t[training] loss: 11.333, rec loss: 5.654, kl: 11.358\n",
      "\t[validation] loss: 10.874, rec loss: 5.370, kl: 11.008\n",
      "======================================================================\n",
      "\t [epoch -1]\n",
      "\t[training] batches count: 157\n",
      "\t[training] loss: 11.327, rec loss: 5.643, kl: 11.368\n",
      "\t[validation] loss: 10.161, rec loss: 4.523, kl: 11.275\n",
      "======================================================================\n",
      "\t [epoch -1]\n",
      "\t[training] batches count: 157\n",
      "\t[training] loss: 11.291, rec loss: 5.522, kl: 11.537\n",
      "\t[validation] loss: 10.426, rec loss: 4.699, kl: 11.454\n",
      "======================================================================\n",
      "\t [epoch -1]\n",
      "\t[training] batches count: 157\n",
      "\t[training] loss: 11.318, rec loss: 5.514, kl: 11.607\n",
      "\t[validation] loss: 10.687, rec loss: 5.068, kl: 11.239\n",
      "======================================================================\n",
      "\t [epoch -1]\n",
      "\t[training] batches count: 157\n",
      "\t[training] loss: 11.197, rec loss: 5.370, kl: 11.653\n",
      "\t[validation] loss: 10.139, rec loss: 4.369, kl: 11.541\n",
      "======================================================================\n",
      "\t [epoch -1]\n",
      "\t[training] batches count: 157\n",
      "\t[training] loss: 11.290, rec loss: 5.411, kl: 11.760\n",
      "\t[validation] loss: 10.343, rec loss: 4.683, kl: 11.321\n",
      "======================================================================\n",
      "\t [epoch -1]\n",
      "\t[training] batches count: 157\n",
      "\t[training] loss: 11.179, rec loss: 5.306, kl: 11.747\n",
      "\t[validation] loss: 10.108, rec loss: 4.315, kl: 11.586\n",
      "======================================================================\n",
      "\t [epoch -1]\n",
      "\t[training] batches count: 157\n",
      "\t[training] loss: 11.127, rec loss: 5.184, kl: 11.886\n",
      "\t[validation] loss: 10.026, rec loss: 4.150, kl: 11.750\n",
      "======================================================================\n",
      "\t [epoch -1]\n",
      "\t[training] batches count: 157\n",
      "\t[training] loss: 11.092, rec loss: 5.095, kl: 11.995\n",
      "\t[validation] loss: 10.244, rec loss: 4.245, kl: 11.998\n",
      "======================================================================\n",
      "===== END PRETRAIN =====\n",
      "\t [epoch 0]\n",
      "\t[training] batches count: 1\n",
      "\t[training] loss: 12.129, rec loss: 6.704, kl: 10.850\n",
      "\t[validation] loss: 11.455, rec loss: 5.868, kl: 11.175\n",
      "======================================================================\n",
      "\t [epoch 1]\n",
      "\t[training] batches count: 1\n",
      "\t[training] loss: 11.939, rec loss: 6.469, kl: 10.941\n",
      "\t[validation] loss: 11.881, rec loss: 6.448, kl: 10.866\n",
      "======================================================================\n",
      "\t [epoch 2]\n",
      "\t[training] batches count: 1\n",
      "\t[training] loss: 12.416, rec loss: 6.977, kl: 10.879\n",
      "\t[validation] loss: 10.227, rec loss: 4.529, kl: 11.394\n",
      "======================================================================\n",
      "\t [epoch 3]\n",
      "\t[training] batches count: 1\n",
      "\t[training] loss: 10.835, rec loss: 5.095, kl: 11.480\n",
      "\t[validation] loss: 10.581, rec loss: 4.695, kl: 11.773\n",
      "======================================================================\n",
      "\t [epoch 4]\n",
      "\t[training] batches count: 1\n",
      "\t[training] loss: 11.183, rec loss: 5.301, kl: 11.766\n",
      "\t[validation] loss: 10.294, rec loss: 4.550, kl: 11.488\n",
      "======================================================================\n",
      "\t [epoch 5]\n",
      "\t[training] batches count: 1\n",
      "\t[training] loss: 10.917, rec loss: 5.160, kl: 11.514\n",
      "\t[validation] loss: 10.400, rec loss: 4.672, kl: 11.456\n",
      "======================================================================\n",
      "\t [epoch 6]\n",
      "\t[training] batches count: 1\n",
      "\t[training] loss: 11.019, rec loss: 5.249, kl: 11.540\n",
      "\t[validation] loss: 10.431, rec loss: 4.612, kl: 11.638\n",
      "======================================================================\n",
      "\t [epoch 7]\n",
      "\t[training] batches count: 1\n",
      "\t[training] loss: 11.009, rec loss: 5.201, kl: 11.617\n",
      "\t[validation] loss: 10.715, rec loss: 4.916, kl: 11.599\n",
      "======================================================================\n",
      "\t [epoch 8]\n",
      "\t[training] batches count: 1\n",
      "\t[training] loss: 10.732, rec loss: 5.020, kl: 11.425\n",
      "\t[validation] loss: 10.105, rec loss: 4.530, kl: 11.151\n",
      "======================================================================\n",
      "\t [epoch 9]\n",
      "\t[training] batches count: 1\n",
      "\t[training] loss: 10.370, rec loss: 4.871, kl: 10.998\n",
      "\t[validation] loss: 9.906, rec loss: 4.412, kl: 10.987\n",
      "======================================================================\n"
     ]
    }
   ],
   "source": [
    "# This cell runs the experiment\n",
    "\n",
    "# domains=domains_grid,true_formula=rs_equation.Equation(['5'])  somehow not working wothout this.....\n",
    "\n",
    "solver = run_experiment(X, y, epochs=10,domains=domains_grid,true_formula=rs_equation.Equation(['5']))"
   ]
  },
  {
   "cell_type": "markdown",
   "metadata": {},
   "source": [
    "# SEGVAE output\n",
    "\n",
    "Next cell prints the 'best' formulas (smallest mse)\n",
    "\n",
    "More details and Pareto front you may find in your wandb account"
   ]
  },
  {
   "cell_type": "code",
   "execution_count": 5,
   "metadata": {},
   "outputs": [
    {
     "name": "stdout",
     "output_type": "stream",
     "text": [
      "Raw equation in prefix notation:  mul x1 add mul x1 x1 x1\n",
      "Equation in traditional notation:  (x1 * ((x1 * x1) + x1))\n"
     ]
    }
   ],
   "source": [
    "best_idx = np.argmin(solver.stats.last_n_best_mses)\n",
    "equations = np.array(solver.stats.last_n_best_formulas)\n",
    "eq = rs_equation.Equation(equations[best_idx].split())\n",
    "\n",
    "print('Raw equation in prefix notation: ', equations[best_idx])\n",
    "print('Equation in traditional notation: ', eq.repr())"
   ]
  },
  {
   "cell_type": "code",
   "execution_count": 15,
   "metadata": {},
   "outputs": [
    {
     "data": {
      "text/plain": [
       "array([-4.64824343, -4.45283729, -4.25743114, -4.062025  , -3.86661885,\n",
       "       -3.67121271, -3.47580656, -3.28040042, -3.08499427, -2.88958813,\n",
       "       -2.69418198, -2.49877584, -2.30336969, -2.10796355, -1.9125574 ,\n",
       "       -1.71715126, -1.52174511, -1.32633897, -1.13093282, -0.93552668,\n",
       "       -0.74012053, -0.54471439, -0.34930824, -0.1539021 ,  0.04150405,\n",
       "        0.23691019,  0.43231634,  0.62772248,  0.82312863,  1.01853477,\n",
       "        1.21394092,  1.40934706,  1.60475321,  1.80015935,  1.9955655 ,\n",
       "        2.19097164,  2.38637779,  2.58178393,  2.77719008,  2.97259622,\n",
       "        3.16800237,  3.36340851,  3.55881466,  3.7542208 ,  3.94962695,\n",
       "        4.14503309,  4.34043924,  4.53584538,  4.73125153,  4.92665767])"
      ]
     },
     "execution_count": 15,
     "metadata": {},
     "output_type": "execute_result"
    }
   ],
   "source": [
    "np.linspace(x_lows, x_highs).reshape(-1)"
   ]
  },
  {
   "cell_type": "code",
   "execution_count": 31,
   "metadata": {},
   "outputs": [
    {
     "data": {
      "text/plain": [
       "Text(0.5, 1.0, 'S_S_deffects')"
      ]
     },
     "execution_count": 31,
     "metadata": {},
     "output_type": "execute_result"
    },
    {
     "data": {
      "image/png": "[encoded data removed]",
      "text/plain": [
       "<Figure size 1200x960 with 1 Axes>"
      ]
     },
     "metadata": {
      "needs_background": "light"
     },
     "output_type": "display_data"
    }
   ],
   "source": [
    "# plot generated formula (best)\n",
    "\n",
    "fig, ax = plt.subplots(figsize=(10, 8), dpi=120)\n",
    "\n",
    "x1 = np.linspace(x_lows, x_highs).reshape(-1)\n",
    "\n",
    "# best generated formula\n",
    "equation = eval(eq.repr())\n",
    "                \n",
    "plt.plot(x1,equation,label=eq.repr())\n",
    "\n",
    "# ground truth\n",
    "y = x1 ** 3 + x1 ** 2 + x1 \n",
    "\n",
    "plt.plot(x1,y,label='Y')\n",
    "plt.legend(loc=\"upper left\")\n",
    "ax.set_ylabel('Y'),\n",
    "ax.set_xlabel('X')\n",
    "ax.set_title('Fit_example')\n"
   ]
  },
  {
   "cell_type": "markdown",
   "metadata": {},
   "source": [
    "# How to use predicates\n",
    "\n",
    "The main function is a predicate() where you can set any conditions on the acceptance criteria of generated functions.\n",
    "\n",
    "In the following cell, we set two conditions.\n",
    "\n",
    "First, the generated formula has to have x1 token.\n",
    "\n",
    "Second, we exclude any possible combinations of nested functions with 'exp' 'pow' 'cos' tokens.\n",
    "\n"
   ]
  },
  {
   "cell_type": "code",
   "execution_count": null,
   "metadata": {},
   "outputs": [],
   "source": []
  },
  {
   "cell_type": "code",
   "execution_count": null,
   "metadata": {},
   "outputs": [],
   "source": [
    "# gives offsprings of a given token in list_of_tokens\n",
    "\n",
    "def get_offsprings(list_of_tokens, idx):\n",
    "    if list_of_tokens[idx] in rs_operators.OPERATORS:\n",
    "        open_nodes = rs_operators.OPERATORS[list_of_tokens[idx]].arity\n",
    "    else:\n",
    "        open_nodes = 0\n",
    "    traversal = []\n",
    "    for i, token in enumerate(list_of_tokens[idx + 1:]):\n",
    "        if open_nodes == 0:\n",
    "            break\n",
    "        traversal.append(token)\n",
    "        if token in rs_operators.OPERATORS:\n",
    "            operator = rs_operators.OPERATORS[token]\n",
    "            open_nodes += operator.arity - 1\n",
    "        else:\n",
    "            open_nodes -= 1\n",
    "\n",
    "    return traversal\n",
    "\n",
    "def predicate(list_of_tokens, chek = False):\n",
    "\n",
    "    if 'x1'  not in list_of_tokens :\n",
    "        return False\n",
    "\n",
    "\n",
    "    for i, token in enumerate(list_of_tokens):\n",
    "        offsprings = get_offsprings(list_of_tokens, i)      \n",
    "        if  token == 'exp'   or token == 'pow' or token == 'cos' :\n",
    "            if  'exp'  in offsprings  or 'pow' in offsprings or 'cos' in offsprings  :\n",
    "\n",
    "                return False\n",
    "           \n",
    "            \n",
    "            \n",
    "    return True"
   ]
  },
  {
   "cell_type": "markdown",
   "metadata": {},
   "source": [
    "# Set the domain for values and targets."
   ]
  },
  {
   "cell_type": "code",
   "execution_count": null,
   "metadata": {},
   "outputs": [],
   "source": [
    "x_lows = [Dataset.min(axis=0)]\n",
    "x_highs = [Dataset.max(axis=0)]\n",
    "y_dom = (Dy.min()-0.005, Dy.max()+0.005)\n",
    "domains_grid = (x_lows, x_highs, y_dom)\n",
    "\n",
    "print(x_lows, x_highs, y_dom)\n",
    "\n",
    "Dataset=Dataset.reshape(-1,1)"
   ]
  },
  {
   "cell_type": "markdown",
   "metadata": {},
   "source": [
    "# Hyperparameters tunning\n",
    "\n",
    "\n",
    "* functions <- functions or operators token list (see operators.py for more details)\n",
    "        \n",
    "* free_variables <- free variables token list\n",
    "        \n",
    "* wandb_proj <-  wandb project name\n",
    "        \n",
    "* project_name <- specify our run name for wandb\n",
    "        \n",
    "* constants <- list of constants\n",
    "        \n",
    "* float_constants <- list of float constants, for mo details see operators.py\n",
    "        \n",
    "* epochs <- the number of epoch in the training loop\n",
    "        \n",
    "* n_formulas_to_sample <- maximum number of formulas to be sampled from VAE\n",
    "               \n",
    "* max_formula_length <- maximum complexity of generated formulas (recomended to use less if posible)\n",
    "\n",
    "* formula_predicate  <- predicate usage, specified in cell above\n",
    "\n",
    "* latent <- VAE latent space dimension (128 by default)\n",
    "\n",
    "* lstm_hidden_dim  <- LSTM hidden dimension (64 by default)\n",
    "\n",
    "* device <- cuda by default if you want to use your GPU\n",
    "\n",
    "* train_size <- number of generated formulas in pretrain step\n",
    "\n",
    "* log_intermediate_steps <- if you need to store logs True (by default) \n",
    "\n",
    "* domains <- target and value domain, by default min(arrgs) max(arrgs)\n",
    "\n",
    "* simplification <- formula simplification by simply library (see details in the paper) (by default False)\n",
    "\n",
    "* pretrain_path <- path to the specific list of pretrained formulas  (by default None)\n",
    "\n"
   ]
  },
  {
   "cell_type": "code",
   "execution_count": null,
   "metadata": {},
   "outputs": [],
   "source": [
    "solver = run_experiment(Dataset, Dy,\n",
    "        functions=['add', 'sub', 'mul', 'div','pow2','cos','exp','pow'],\n",
    "        free_variables=['x1'],\n",
    "        wandb_proj='SEGVAE',\n",
    "        project_name='SEGVAE_Hiperparameters_Tunning',\n",
    "        constants=[],\n",
    "        float_constants=rs_operators.FLOAT_CONST + rs_operators.INT_CONST,\n",
    "        epochs=1200,\n",
    "        n_formulas_to_sample=5000,\n",
    "        max_formula_length=25,\n",
    "        formula_predicate=predicate,\n",
    "#        true_formula=rs_equation.Equation(['5']),\n",
    "        latent=128,\n",
    "        lstm_hidden_dim=64,\n",
    "        device='cuda',\n",
    "        train_size=50000,\n",
    "        log_intermediate_steps=True,\n",
    "        domains=domains_grid,\n",
    "        simplification=False,\n",
    "        pretrain_path=None)"
   ]
  },
  {
   "cell_type": "code",
   "execution_count": null,
   "metadata": {},
   "outputs": [],
   "source": [
    "best_idx = np.argmin(solver.stats.last_n_best_mses)\n",
    "equations = np.array(solver.stats.last_n_best_formulas)\n",
    "eq = rs_equation.Equation(equations[best_idx].split())\n",
    "\n",
    "print('Raw equation in prefix notation: ', equations[best_idx])\n",
    "print('Equation in traditional notation: ', eq.repr())"
   ]
  },
  {
   "cell_type": "code",
   "execution_count": null,
   "metadata": {},
   "outputs": [],
   "source": []
  },
  {
   "cell_type": "code",
   "execution_count": null,
   "metadata": {},
   "outputs": [],
   "source": []
  }
 ],
 "metadata": {
  "kernelspec": {
   "display_name": "Python 3 (ipykernel)",
   "language": "python",
   "name": "python3"
  },
  "language_info": {
   "codemirror_mode": {
    "name": "ipython",
    "version": 3
   },
   "file_extension": ".py",
   "mimetype": "text/x-python",
   "name": "python",
   "nbconvert_exporter": "python",
   "pygments_lexer": "ipython3",
   "version": "3.8.13"
  }
 },
 "nbformat": 4,
 "nbformat_minor": 4
}
